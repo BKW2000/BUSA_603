{
 "cells": [
  {
   "cell_type": "markdown",
   "metadata": {
    "id": "Ia9ninQGteK8"
   },
   "source": [
    "## Assignment\n",
    "\n",
    "In marketing competitor analysis, you assess the strengths and weaknesses of your rivals. You try to figure out what situations may provide an opportunity for them. Find situations which are likely to become a threat for them as well. A marketing competitor analysis is a critical part of your own marketing strategy.\n",
    "\n",
    "Assume you are a marketing analyst of a major electronics retailer. You are researching your company’s e-commerce competitors and want to group the competitors based on their performance data. You have compiled a data set that contains the following four performance measures of the major competitors’ e-commerce operations: Annual Revenue (Revenue, in $), Growth Rate (in %), Monthly Visits (Visits), and Conversion Rate (in %). In order to avoid any personal bias in grouping these competitors, you replaced the names of the competitors with a code.\n",
    "\n",
    "Please answer the following questions by using all four performance measures: \n",
    "\n",
    "1. Does the data set need to be standardized prior to cluster analysis? \n",
    "2. Apply k-mean clustering and identify the number of clusters using the elbow method. \n",
    "3. What are the size and cluster center values of the largest cluster of competitors?"
   ]
  },
  {
   "cell_type": "code",
   "execution_count": 1,
   "metadata": {
    "colab": {
     "base_uri": "https://localhost:8080/",
     "height": 203
    },
    "executionInfo": {
     "elapsed": 341,
     "status": "ok",
     "timestamp": 1627592254612,
     "user": {
      "displayName": "Jiang Li",
      "photoUrl": "",
      "userId": "17364548194096519133"
     },
     "user_tz": 240
    },
    "id": "DC4-8dHLYjgr",
    "outputId": "75c54def-31b0-4b98-deb4-b544bd614a6e"
   },
   "outputs": [
    {
     "data": {
      "text/html": [
       "<div>\n",
       "<style scoped>\n",
       "    .dataframe tbody tr th:only-of-type {\n",
       "        vertical-align: middle;\n",
       "    }\n",
       "\n",
       "    .dataframe tbody tr th {\n",
       "        vertical-align: top;\n",
       "    }\n",
       "\n",
       "    .dataframe thead th {\n",
       "        text-align: right;\n",
       "    }\n",
       "</style>\n",
       "<table border=\"1\" class=\"dataframe\">\n",
       "  <thead>\n",
       "    <tr style=\"text-align: right;\">\n",
       "      <th></th>\n",
       "      <th>Web Site</th>\n",
       "      <th>Revenue</th>\n",
       "      <th>Growth Rate</th>\n",
       "      <th>Visits</th>\n",
       "      <th>Conversion Rate</th>\n",
       "    </tr>\n",
       "  </thead>\n",
       "  <tbody>\n",
       "    <tr>\n",
       "      <th>0</th>\n",
       "      <td>1</td>\n",
       "      <td>3276000.0</td>\n",
       "      <td>13.600</td>\n",
       "      <td>78047136</td>\n",
       "      <td>1.928</td>\n",
       "    </tr>\n",
       "    <tr>\n",
       "      <th>1</th>\n",
       "      <td>2</td>\n",
       "      <td>2485716.0</td>\n",
       "      <td>9.600</td>\n",
       "      <td>28000000</td>\n",
       "      <td>4.000</td>\n",
       "    </tr>\n",
       "    <tr>\n",
       "      <th>2</th>\n",
       "      <td>3</td>\n",
       "      <td>2432000.0</td>\n",
       "      <td>14.264</td>\n",
       "      <td>19161819</td>\n",
       "      <td>3.760</td>\n",
       "    </tr>\n",
       "    <tr>\n",
       "      <th>3</th>\n",
       "      <td>4</td>\n",
       "      <td>2286894.4</td>\n",
       "      <td>2.400</td>\n",
       "      <td>8960000</td>\n",
       "      <td>5.960</td>\n",
       "    </tr>\n",
       "    <tr>\n",
       "      <th>4</th>\n",
       "      <td>5</td>\n",
       "      <td>2173701.6</td>\n",
       "      <td>8.000</td>\n",
       "      <td>3600000</td>\n",
       "      <td>4.640</td>\n",
       "    </tr>\n",
       "  </tbody>\n",
       "</table>\n",
       "</div>"
      ],
      "text/plain": [
       "   Web Site    Revenue  Growth Rate    Visits  Conversion Rate\n",
       "0         1  3276000.0       13.600  78047136            1.928\n",
       "1         2  2485716.0        9.600  28000000            4.000\n",
       "2         3  2432000.0       14.264  19161819            3.760\n",
       "3         4  2286894.4        2.400   8960000            5.960\n",
       "4         5  2173701.6        8.000   3600000            4.640"
      ]
     },
     "execution_count": 1,
     "metadata": {},
     "output_type": "execute_result"
    }
   ],
   "source": [
    "# load data\n",
    "import pandas as pd\n",
    "df = pd.read_csv(\"https://raw.githubusercontent.com/franklin-univ-data-science/data/master/competitors.csv\")\n",
    "df.head()"
   ]
  },
  {
   "cell_type": "markdown",
   "metadata": {
    "id": "M8URfvLTYuON"
   },
   "source": [
    "### Instructor Solutions"
   ]
  },
  {
   "cell_type": "markdown",
   "metadata": {
    "id": "2FclFEd10Uss"
   },
   "source": [
    "1. The data set needs standardization as the scales between input variables are very different."
   ]
  },
  {
   "cell_type": "code",
   "execution_count": 2,
   "metadata": {
    "colab": {
     "base_uri": "https://localhost:8080/",
     "height": 203
    },
    "executionInfo": {
     "elapsed": 141,
     "status": "ok",
     "timestamp": 1627592254873,
     "user": {
      "displayName": "Jiang Li",
      "photoUrl": "",
      "userId": "17364548194096519133"
     },
     "user_tz": 240
    },
    "id": "hExEG1B44NCJ",
    "outputId": "50f3ffb2-397d-4e6e-b6b1-3c22b36a41f7"
   },
   "outputs": [
    {
     "data": {
      "text/html": [
       "<div>\n",
       "<style scoped>\n",
       "    .dataframe tbody tr th:only-of-type {\n",
       "        vertical-align: middle;\n",
       "    }\n",
       "\n",
       "    .dataframe tbody tr th {\n",
       "        vertical-align: top;\n",
       "    }\n",
       "\n",
       "    .dataframe thead th {\n",
       "        text-align: right;\n",
       "    }\n",
       "</style>\n",
       "<table border=\"1\" class=\"dataframe\">\n",
       "  <thead>\n",
       "    <tr style=\"text-align: right;\">\n",
       "      <th></th>\n",
       "      <th>Web Site</th>\n",
       "      <th>Revenue</th>\n",
       "      <th>Growth Rate</th>\n",
       "      <th>Visits</th>\n",
       "      <th>Conversion Rate</th>\n",
       "    </tr>\n",
       "  </thead>\n",
       "  <tbody>\n",
       "    <tr>\n",
       "      <th>0</th>\n",
       "      <td>1</td>\n",
       "      <td>3276000.0</td>\n",
       "      <td>13.600</td>\n",
       "      <td>78047136</td>\n",
       "      <td>1.928</td>\n",
       "    </tr>\n",
       "    <tr>\n",
       "      <th>1</th>\n",
       "      <td>2</td>\n",
       "      <td>2485716.0</td>\n",
       "      <td>9.600</td>\n",
       "      <td>28000000</td>\n",
       "      <td>4.000</td>\n",
       "    </tr>\n",
       "    <tr>\n",
       "      <th>2</th>\n",
       "      <td>3</td>\n",
       "      <td>2432000.0</td>\n",
       "      <td>14.264</td>\n",
       "      <td>19161819</td>\n",
       "      <td>3.760</td>\n",
       "    </tr>\n",
       "    <tr>\n",
       "      <th>3</th>\n",
       "      <td>4</td>\n",
       "      <td>2286894.4</td>\n",
       "      <td>2.400</td>\n",
       "      <td>8960000</td>\n",
       "      <td>5.960</td>\n",
       "    </tr>\n",
       "    <tr>\n",
       "      <th>4</th>\n",
       "      <td>5</td>\n",
       "      <td>2173701.6</td>\n",
       "      <td>8.000</td>\n",
       "      <td>3600000</td>\n",
       "      <td>4.640</td>\n",
       "    </tr>\n",
       "  </tbody>\n",
       "</table>\n",
       "</div>"
      ],
      "text/plain": [
       "   Web Site    Revenue  Growth Rate    Visits  Conversion Rate\n",
       "0         1  3276000.0       13.600  78047136            1.928\n",
       "1         2  2485716.0        9.600  28000000            4.000\n",
       "2         3  2432000.0       14.264  19161819            3.760\n",
       "3         4  2286894.4        2.400   8960000            5.960\n",
       "4         5  2173701.6        8.000   3600000            4.640"
      ]
     },
     "execution_count": 2,
     "metadata": {},
     "output_type": "execute_result"
    }
   ],
   "source": [
    "# load data\n",
    "import pandas as pd\n",
    "df = pd.read_csv(\"https://raw.githubusercontent.com/franklin-univ-data-science/data/master/competitors.csv\")\n",
    "df.head()"
   ]
  },
  {
   "cell_type": "code",
   "execution_count": 3,
   "metadata": {
    "colab": {
     "base_uri": "https://localhost:8080/",
     "height": 203
    },
    "executionInfo": {
     "elapsed": 6,
     "status": "ok",
     "timestamp": 1627592254874,
     "user": {
      "displayName": "Jiang Li",
      "photoUrl": "",
      "userId": "17364548194096519133"
     },
     "user_tz": 240
    },
    "id": "_ZCHQeu35fve",
    "outputId": "473fba82-e08b-4735-b32d-9c5e5e5a6386"
   },
   "outputs": [
    {
     "data": {
      "text/html": [
       "<div>\n",
       "<style scoped>\n",
       "    .dataframe tbody tr th:only-of-type {\n",
       "        vertical-align: middle;\n",
       "    }\n",
       "\n",
       "    .dataframe tbody tr th {\n",
       "        vertical-align: top;\n",
       "    }\n",
       "\n",
       "    .dataframe thead th {\n",
       "        text-align: right;\n",
       "    }\n",
       "</style>\n",
       "<table border=\"1\" class=\"dataframe\">\n",
       "  <thead>\n",
       "    <tr style=\"text-align: right;\">\n",
       "      <th></th>\n",
       "      <th>Web Site</th>\n",
       "      <th>Revenue</th>\n",
       "      <th>Growth Rate</th>\n",
       "      <th>Visits</th>\n",
       "      <th>Conversion Rate</th>\n",
       "    </tr>\n",
       "  </thead>\n",
       "  <tbody>\n",
       "    <tr>\n",
       "      <th>0</th>\n",
       "      <td>1</td>\n",
       "      <td>-0.662476</td>\n",
       "      <td>0.081396</td>\n",
       "      <td>2.992001</td>\n",
       "      <td>-0.681336</td>\n",
       "    </tr>\n",
       "    <tr>\n",
       "      <th>1</th>\n",
       "      <td>2</td>\n",
       "      <td>-0.665372</td>\n",
       "      <td>-0.336555</td>\n",
       "      <td>0.394243</td>\n",
       "      <td>0.634960</td>\n",
       "    </tr>\n",
       "    <tr>\n",
       "      <th>2</th>\n",
       "      <td>3</td>\n",
       "      <td>-0.665568</td>\n",
       "      <td>0.150776</td>\n",
       "      <td>-0.064513</td>\n",
       "      <td>0.482494</td>\n",
       "    </tr>\n",
       "    <tr>\n",
       "      <th>3</th>\n",
       "      <td>4</td>\n",
       "      <td>-0.666100</td>\n",
       "      <td>-1.088867</td>\n",
       "      <td>-0.594051</td>\n",
       "      <td>1.880105</td>\n",
       "    </tr>\n",
       "    <tr>\n",
       "      <th>4</th>\n",
       "      <td>5</td>\n",
       "      <td>-0.666515</td>\n",
       "      <td>-0.503735</td>\n",
       "      <td>-0.872268</td>\n",
       "      <td>1.041538</td>\n",
       "    </tr>\n",
       "  </tbody>\n",
       "</table>\n",
       "</div>"
      ],
      "text/plain": [
       "   Web Site   Revenue  Growth Rate    Visits  Conversion Rate\n",
       "0         1 -0.662476     0.081396  2.992001        -0.681336\n",
       "1         2 -0.665372    -0.336555  0.394243         0.634960\n",
       "2         3 -0.665568     0.150776 -0.064513         0.482494\n",
       "3         4 -0.666100    -1.088867 -0.594051         1.880105\n",
       "4         5 -0.666515    -0.503735 -0.872268         1.041538"
      ]
     },
     "execution_count": 3,
     "metadata": {},
     "output_type": "execute_result"
    }
   ],
   "source": [
    "from sklearn.preprocessing import StandardScaler\n",
    "\n",
    "# creat an instance of StandardScaler; then we can call its function\n",
    "stdsc = StandardScaler()\n",
    "\n",
    "# call the fit_transform() to standardize the annual income and spending score.\n",
    "df[[\"Revenue\", \"Growth Rate\", \"Visits\", \"Conversion Rate\"]] = stdsc.fit_transform(df[[\"Revenue\", \"Growth Rate\", \"Visits\", \"Conversion Rate\"]])\n",
    "df.head()"
   ]
  },
  {
   "cell_type": "code",
   "execution_count": 4,
   "metadata": {
    "colab": {
     "base_uri": "https://localhost:8080/",
     "height": 279
    },
    "executionInfo": {
     "elapsed": 565,
     "status": "ok",
     "timestamp": 1627592255435,
     "user": {
      "displayName": "Jiang Li",
      "photoUrl": "",
      "userId": "17364548194096519133"
     },
     "user_tz": 240
    },
    "id": "fh1oAfBR0TeP",
    "outputId": "f8ad0866-602b-45c3-e47b-e81c12277792"
   },
   "outputs": [
    {
     "name": "stderr",
     "output_type": "stream",
     "text": [
      "C:\\Python310\\lib\\site-packages\\sklearn\\cluster\\_kmeans.py:870: FutureWarning: The default value of `n_init` will change from 10 to 'auto' in 1.4. Set the value of `n_init` explicitly to suppress the warning\n",
      "  warnings.warn(\n",
      "C:\\Python310\\lib\\site-packages\\sklearn\\cluster\\_kmeans.py:870: FutureWarning: The default value of `n_init` will change from 10 to 'auto' in 1.4. Set the value of `n_init` explicitly to suppress the warning\n",
      "  warnings.warn(\n",
      "C:\\Python310\\lib\\site-packages\\sklearn\\cluster\\_kmeans.py:870: FutureWarning: The default value of `n_init` will change from 10 to 'auto' in 1.4. Set the value of `n_init` explicitly to suppress the warning\n",
      "  warnings.warn(\n",
      "C:\\Python310\\lib\\site-packages\\sklearn\\cluster\\_kmeans.py:870: FutureWarning: The default value of `n_init` will change from 10 to 'auto' in 1.4. Set the value of `n_init` explicitly to suppress the warning\n",
      "  warnings.warn(\n",
      "C:\\Python310\\lib\\site-packages\\sklearn\\cluster\\_kmeans.py:870: FutureWarning: The default value of `n_init` will change from 10 to 'auto' in 1.4. Set the value of `n_init` explicitly to suppress the warning\n",
      "  warnings.warn(\n",
      "C:\\Python310\\lib\\site-packages\\sklearn\\cluster\\_kmeans.py:870: FutureWarning: The default value of `n_init` will change from 10 to 'auto' in 1.4. Set the value of `n_init` explicitly to suppress the warning\n",
      "  warnings.warn(\n",
      "C:\\Python310\\lib\\site-packages\\sklearn\\cluster\\_kmeans.py:870: FutureWarning: The default value of `n_init` will change from 10 to 'auto' in 1.4. Set the value of `n_init` explicitly to suppress the warning\n",
      "  warnings.warn(\n",
      "C:\\Python310\\lib\\site-packages\\sklearn\\cluster\\_kmeans.py:870: FutureWarning: The default value of `n_init` will change from 10 to 'auto' in 1.4. Set the value of `n_init` explicitly to suppress the warning\n",
      "  warnings.warn(\n",
      "C:\\Python310\\lib\\site-packages\\sklearn\\cluster\\_kmeans.py:870: FutureWarning: The default value of `n_init` will change from 10 to 'auto' in 1.4. Set the value of `n_init` explicitly to suppress the warning\n",
      "  warnings.warn(\n",
      "C:\\Python310\\lib\\site-packages\\sklearn\\cluster\\_kmeans.py:870: FutureWarning: The default value of `n_init` will change from 10 to 'auto' in 1.4. Set the value of `n_init` explicitly to suppress the warning\n",
      "  warnings.warn(\n"
     ]
    },
    {
     "data": {
      "image/png": "[encoded data removed]",
      "text/plain": [
       "<Figure size 432x288 with 1 Axes>"
      ]
     },
     "metadata": {
      "needs_background": "light"
     },
     "output_type": "display_data"
    }
   ],
   "source": [
    "import matplotlib.pyplot as plt\n",
    "from sklearn.cluster import KMeans\n",
    "\n",
    "error = []\n",
    "for i in range(1, 11): # here we test the cluster number from 1 to 10\n",
    "    km = KMeans(n_clusters=i, random_state=1)\n",
    "    km.fit(df[[\"Revenue\", \"Growth Rate\", \"Visits\", \"Conversion Rate\"]])\n",
    "    error.append(km.inertia_)\n",
    "\n",
    "# The plot() function in pyplot module of matplotlib library is used to make a 2D plot of points x, y.\n",
    "plt.plot(range(1, 11), error, marker='o') # plt.plot() is \n",
    "plt.xlabel('Number of clusters') # define the x-axis label\n",
    "plt.ylabel('Error') # define the y-axis label\n",
    "plt.show()"
   ]
  },
  {
   "cell_type": "code",
   "execution_count": 5,
   "metadata": {
    "colab": {
     "base_uri": "https://localhost:8080/",
     "height": 203
    },
    "executionInfo": {
     "elapsed": 11,
     "status": "ok",
     "timestamp": 1627592255436,
     "user": {
      "displayName": "Jiang Li",
      "photoUrl": "",
      "userId": "17364548194096519133"
     },
     "user_tz": 240
    },
    "id": "6aQn5oqX32x6",
    "outputId": "9c130924-6d51-4935-bf62-591fff159505"
   },
   "outputs": [
    {
     "name": "stderr",
     "output_type": "stream",
     "text": [
      "C:\\Python310\\lib\\site-packages\\sklearn\\cluster\\_kmeans.py:870: FutureWarning: The default value of `n_init` will change from 10 to 'auto' in 1.4. Set the value of `n_init` explicitly to suppress the warning\n",
      "  warnings.warn(\n"
     ]
    },
    {
     "data": {
      "text/html": [
       "<div>\n",
       "<style scoped>\n",
       "    .dataframe tbody tr th:only-of-type {\n",
       "        vertical-align: middle;\n",
       "    }\n",
       "\n",
       "    .dataframe tbody tr th {\n",
       "        vertical-align: top;\n",
       "    }\n",
       "\n",
       "    .dataframe thead th {\n",
       "        text-align: right;\n",
       "    }\n",
       "</style>\n",
       "<table border=\"1\" class=\"dataframe\">\n",
       "  <thead>\n",
       "    <tr style=\"text-align: right;\">\n",
       "      <th></th>\n",
       "      <th>Web Site</th>\n",
       "      <th>Revenue</th>\n",
       "      <th>Growth Rate</th>\n",
       "      <th>Visits</th>\n",
       "      <th>Conversion Rate</th>\n",
       "      <th>clusters</th>\n",
       "    </tr>\n",
       "  </thead>\n",
       "  <tbody>\n",
       "    <tr>\n",
       "      <th>0</th>\n",
       "      <td>1</td>\n",
       "      <td>-0.662476</td>\n",
       "      <td>0.081396</td>\n",
       "      <td>2.992001</td>\n",
       "      <td>-0.681336</td>\n",
       "      <td>3</td>\n",
       "    </tr>\n",
       "    <tr>\n",
       "      <th>1</th>\n",
       "      <td>2</td>\n",
       "      <td>-0.665372</td>\n",
       "      <td>-0.336555</td>\n",
       "      <td>0.394243</td>\n",
       "      <td>0.634960</td>\n",
       "      <td>0</td>\n",
       "    </tr>\n",
       "    <tr>\n",
       "      <th>2</th>\n",
       "      <td>3</td>\n",
       "      <td>-0.665568</td>\n",
       "      <td>0.150776</td>\n",
       "      <td>-0.064513</td>\n",
       "      <td>0.482494</td>\n",
       "      <td>0</td>\n",
       "    </tr>\n",
       "    <tr>\n",
       "      <th>3</th>\n",
       "      <td>4</td>\n",
       "      <td>-0.666100</td>\n",
       "      <td>-1.088867</td>\n",
       "      <td>-0.594051</td>\n",
       "      <td>1.880105</td>\n",
       "      <td>0</td>\n",
       "    </tr>\n",
       "    <tr>\n",
       "      <th>4</th>\n",
       "      <td>5</td>\n",
       "      <td>-0.666515</td>\n",
       "      <td>-0.503735</td>\n",
       "      <td>-0.872268</td>\n",
       "      <td>1.041538</td>\n",
       "      <td>0</td>\n",
       "    </tr>\n",
       "  </tbody>\n",
       "</table>\n",
       "</div>"
      ],
      "text/plain": [
       "   Web Site   Revenue  Growth Rate    Visits  Conversion Rate  clusters\n",
       "0         1 -0.662476     0.081396  2.992001        -0.681336         3\n",
       "1         2 -0.665372    -0.336555  0.394243         0.634960         0\n",
       "2         3 -0.665568     0.150776 -0.064513         0.482494         0\n",
       "3         4 -0.666100    -1.088867 -0.594051         1.880105         0\n",
       "4         5 -0.666515    -0.503735 -0.872268         1.041538         0"
      ]
     },
     "execution_count": 5,
     "metadata": {},
     "output_type": "execute_result"
    }
   ],
   "source": [
    "km = KMeans(n_clusters=4, random_state=1)\n",
    "\n",
    "y_km = km.fit_predict(df[[\"Revenue\", \"Growth Rate\", \"Visits\", \"Conversion Rate\"]])\n",
    "\n",
    "df[\"clusters\"] = y_km\n",
    "\n",
    "df.head()"
   ]
  },
  {
   "cell_type": "code",
   "execution_count": 6,
   "metadata": {
    "colab": {
     "base_uri": "https://localhost:8080/"
    },
    "executionInfo": {
     "elapsed": 9,
     "status": "ok",
     "timestamp": 1627592255436,
     "user": {
      "displayName": "Jiang Li",
      "photoUrl": "",
      "userId": "17364548194096519133"
     },
     "user_tz": 240
    },
    "id": "EsCgFIHaYyYo",
    "outputId": "45b1b99f-6b7c-4370-9a79-29111e6d6f8c"
   },
   "outputs": [
    {
     "data": {
      "text/plain": [
       "0    19\n",
       "1     6\n",
       "2     5\n",
       "3     2\n",
       "Name: clusters, dtype: int64"
      ]
     },
     "execution_count": 6,
     "metadata": {},
     "output_type": "execute_result"
    }
   ],
   "source": [
    "df[\"clusters\"].value_counts()"
   ]
  },
  {
   "cell_type": "markdown",
   "metadata": {
    "id": "M5fJnGWThQLc"
   },
   "source": [
    "The class 0 with 19 customers is the largest.\n"
   ]
  },
  {
   "cell_type": "code",
   "execution_count": 10,
   "metadata": {
    "colab": {
     "base_uri": "https://localhost:8080/"
    },
    "executionInfo": {
     "elapsed": 8,
     "status": "ok",
     "timestamp": 1627592255437,
     "user": {
      "displayName": "Jiang Li",
      "photoUrl": "",
      "userId": "17364548194096519133"
     },
     "user_tz": 240
    },
    "id": "KYZXRnQ13w7P",
    "outputId": "fa3820da-a7de-403a-c8ac-7a3701b93cfa"
   },
   "outputs": [
    {
     "data": {
      "text/plain": [
       "array([[-0.66895573, -0.2241042 , -0.11958888, -0.09901976],\n",
       "       [ 1.0392248 ,  1.37091397, -0.42306276,  0.53331579],\n",
       "       [ 1.56108678, -1.0320254 , -0.34798852,  0.25379352],\n",
       "       [-0.66531192,  0.59631153,  3.27525396, -1.29374343]])"
      ]
     },
     "execution_count": 10,
     "metadata": {},
     "output_type": "execute_result"
    }
   ],
   "source": [
    "# the cluster centers:\n",
    "km.cluster_centers_"
   ]
  },
  {
   "cell_type": "code",
   "execution_count": 11,
   "metadata": {
    "colab": {
     "base_uri": "https://localhost:8080/",
     "height": 172
    },
    "executionInfo": {
     "elapsed": 7,
     "status": "ok",
     "timestamp": 1627592255437,
     "user": {
      "displayName": "Jiang Li",
      "photoUrl": "",
      "userId": "17364548194096519133"
     },
     "user_tz": 240
    },
    "id": "Akaj4Wig-H3M",
    "outputId": "f8e2680b-a24d-4225-87df-ef74304f76d0"
   },
   "outputs": [
    {
     "data": {
      "text/html": [
       "<div>\n",
       "<style scoped>\n",
       "    .dataframe tbody tr th:only-of-type {\n",
       "        vertical-align: middle;\n",
       "    }\n",
       "\n",
       "    .dataframe tbody tr th {\n",
       "        vertical-align: top;\n",
       "    }\n",
       "\n",
       "    .dataframe thead th {\n",
       "        text-align: right;\n",
       "    }\n",
       "</style>\n",
       "<table border=\"1\" class=\"dataframe\">\n",
       "  <thead>\n",
       "    <tr style=\"text-align: right;\">\n",
       "      <th></th>\n",
       "      <th>Revenue</th>\n",
       "      <th>Growth Rate</th>\n",
       "      <th>Visits</th>\n",
       "      <th>Conversion Rate</th>\n",
       "    </tr>\n",
       "  </thead>\n",
       "  <tbody>\n",
       "    <tr>\n",
       "      <th>0</th>\n",
       "      <td>1507555</td>\n",
       "      <td>11</td>\n",
       "      <td>18100755</td>\n",
       "      <td>3</td>\n",
       "    </tr>\n",
       "    <tr>\n",
       "      <th>1</th>\n",
       "      <td>467693760</td>\n",
       "      <td>26</td>\n",
       "      <td>12254174</td>\n",
       "      <td>4</td>\n",
       "    </tr>\n",
       "    <tr>\n",
       "      <th>2</th>\n",
       "      <td>610117147</td>\n",
       "      <td>3</td>\n",
       "      <td>13700518</td>\n",
       "      <td>3</td>\n",
       "    </tr>\n",
       "    <tr>\n",
       "      <th>3</th>\n",
       "      <td>2502000</td>\n",
       "      <td>19</td>\n",
       "      <td>83504153</td>\n",
       "      <td>1</td>\n",
       "    </tr>\n",
       "  </tbody>\n",
       "</table>\n",
       "</div>"
      ],
      "text/plain": [
       "    Revenue  Growth Rate   Visits  Conversion Rate\n",
       "0   1507555           11 18100755                3\n",
       "1 467693760           26 12254174                4\n",
       "2 610117147            3 13700518                3\n",
       "3   2502000           19 83504153                1"
      ]
     },
     "execution_count": 11,
     "metadata": {},
     "output_type": "execute_result"
    }
   ],
   "source": [
    "pd.set_option('display.float_format', lambda x: '%.0f' % x)\n",
    "\n",
    "# convert centers to the original scales and safe results in dataframe\n",
    "centers = pd.DataFrame(stdsc.inverse_transform(km.cluster_centers_))\n",
    "centers.columns = [\"Revenue\", \"Growth Rate\", \"Visits\", \"Conversion Rate\"]\n",
    "centers"
   ]
  },
  {
   "cell_type": "markdown",
   "metadata": {
    "id": "FJ3z-enlhaUG"
   },
   "source": [
    "The largest cluster's centers:\n"
   ]
  },
  {
   "cell_type": "code",
   "execution_count": 9,
   "metadata": {
    "colab": {
     "base_uri": "https://localhost:8080/"
    },
    "executionInfo": {
     "elapsed": 2,
     "status": "ok",
     "timestamp": 1627592255576,
     "user": {
      "displayName": "Jiang Li",
      "photoUrl": "",
      "userId": "17364548194096519133"
     },
     "user_tz": 240
    },
    "id": "mTnL3s4WiJWt",
    "outputId": "3b02d9ef-b305-41a2-ac4a-80b18b023f27"
   },
   "outputs": [
    {
     "data": {
      "text/plain": [
       "Revenue            1507555\n",
       "Growth Rate             11\n",
       "Visits            18100755\n",
       "Conversion Rate          3\n",
       "Name: 0, dtype: float64"
      ]
     },
     "execution_count": 9,
     "metadata": {},
     "output_type": "execute_result"
    }
   ],
   "source": [
    "centers.iloc[0]"
   ]
  }
 ],
 "metadata": {
  "anaconda-cloud": {},
  "colab": {
   "collapsed_sections": [],
   "name": "Lab2_Clustering_Solutions.ipynb",
   "provenance": [
    {
     "file_id": "https://github.com/franklin-univ-data-science/data611/blob/master/week09_lecture.ipynb",
     "timestamp": 1575342176596
    }
   ]
  },
  "kernelspec": {
   "display_name": "Python 3 (ipykernel)",
   "language": "python",
   "name": "python3"
  },
  "language_info": {
   "codemirror_mode": {
    "name": "ipython",
    "version": 3
   },
   "file_extension": ".py",
   "mimetype": "text/x-python",
   "name": "python",
   "nbconvert_exporter": "python",
   "pygments_lexer": "ipython3",
   "version": "3.10.5"
  },
  "toc": {
   "base_numbering": 1,
   "nav_menu": {},
   "number_sections": true,
   "sideBar": true,
   "skip_h1_title": false,
   "title_cell": "Table of Contents",
   "title_sidebar": "Contents",
   "toc_cell": false,
   "toc_position": {},
   "toc_section_display": true,
   "toc_window_display": false
  }
 },
 "nbformat": 4,
 "nbformat_minor": 1
}
